{
    "cells": [
        {
            "cell_type": "code",
            "execution_count": 1,
            "metadata": {},
            "outputs": [
                {
                    "data": {
                        "text/html": "<div>\n<style scoped>\n    .dataframe tbody tr th:only-of-type {\n        vertical-align: middle;\n    }\n\n    .dataframe tbody tr th {\n        vertical-align: top;\n    }\n\n    .dataframe thead th {\n        text-align: right;\n    }\n</style>\n<table border=\"1\" class=\"dataframe\">\n  <thead>\n    <tr style=\"text-align: right;\">\n      <th></th>\n      <th>cd_ibge</th>\n      <th>nm_municipio</th>\n      <th>nm_uf</th>\n      <th>cd_uf</th>\n      <th>bl_capital</th>\n      <th>regiao_uf</th>\n      <th>lat_municipio</th>\n      <th>long_municipio</th>\n      <th>lat_long_municipio</th>\n      <th>lat_central_uf</th>\n      <th>long_central_uf</th>\n      <th>lat_long_central_uf</th>\n    </tr>\n  </thead>\n  <tbody>\n    <tr>\n      <th>0</th>\n      <td>1200013</td>\n      <td>Acrelandia</td>\n      <td>Acre</td>\n      <td>AC</td>\n      <td>False</td>\n      <td>Norte</td>\n      <td>-9.82581</td>\n      <td>-66.8972</td>\n      <td>-9.82581,-66.8972</td>\n      <td>-8.77</td>\n      <td>-70.55</td>\n      <td>-8.77,-70.55</td>\n    </tr>\n    <tr>\n      <th>1</th>\n      <td>1200054</td>\n      <td>Assis Brasil</td>\n      <td>Acre</td>\n      <td>AC</td>\n      <td>False</td>\n      <td>Norte</td>\n      <td>-10.92980</td>\n      <td>-69.5738</td>\n      <td>-10.9298,-69.5738</td>\n      <td>-8.77</td>\n      <td>-70.55</td>\n      <td>-8.77,-70.55</td>\n    </tr>\n    <tr>\n      <th>2</th>\n      <td>1200104</td>\n      <td>Brasileia</td>\n      <td>Acre</td>\n      <td>AC</td>\n      <td>False</td>\n      <td>Norte</td>\n      <td>-10.99500</td>\n      <td>-68.7497</td>\n      <td>-10.995,-68.7497</td>\n      <td>-8.77</td>\n      <td>-70.55</td>\n      <td>-8.77,-70.55</td>\n    </tr>\n    <tr>\n      <th>3</th>\n      <td>1200138</td>\n      <td>Bujari</td>\n      <td>Acre</td>\n      <td>AC</td>\n      <td>False</td>\n      <td>Norte</td>\n      <td>-9.81528</td>\n      <td>-67.9550</td>\n      <td>-9.81528,-67.955</td>\n      <td>-8.77</td>\n      <td>-70.55</td>\n      <td>-8.77,-70.55</td>\n    </tr>\n    <tr>\n      <th>4</th>\n      <td>1200179</td>\n      <td>Capixaba</td>\n      <td>Acre</td>\n      <td>AC</td>\n      <td>False</td>\n      <td>Norte</td>\n      <td>-10.56600</td>\n      <td>-67.6860</td>\n      <td>-10.566,-67.686</td>\n      <td>-8.77</td>\n      <td>-70.55</td>\n      <td>-8.77,-70.55</td>\n    </tr>\n  </tbody>\n</table>\n</div>",
                        "text/plain": "   cd_ibge  nm_municipio nm_uf cd_uf  bl_capital regiao_uf  lat_municipio  \\\n0  1200013    Acrelandia  Acre    AC       False     Norte       -9.82581   \n1  1200054  Assis Brasil  Acre    AC       False     Norte      -10.92980   \n2  1200104     Brasileia  Acre    AC       False     Norte      -10.99500   \n3  1200138        Bujari  Acre    AC       False     Norte       -9.81528   \n4  1200179      Capixaba  Acre    AC       False     Norte      -10.56600   \n\n   long_municipio lat_long_municipio  lat_central_uf  long_central_uf  \\\n0        -66.8972  -9.82581,-66.8972           -8.77           -70.55   \n1        -69.5738  -10.9298,-69.5738           -8.77           -70.55   \n2        -68.7497   -10.995,-68.7497           -8.77           -70.55   \n3        -67.9550   -9.81528,-67.955           -8.77           -70.55   \n4        -67.6860    -10.566,-67.686           -8.77           -70.55   \n\n  lat_long_central_uf  \n0        -8.77,-70.55  \n1        -8.77,-70.55  \n2        -8.77,-70.55  \n3        -8.77,-70.55  \n4        -8.77,-70.55  "
                    },
                    "execution_count": 1,
                    "metadata": {},
                    "output_type": "execute_result"
                }
            ],
            "source": "# The code was removed by Watson Studio for sharing."
        },
        {
            "cell_type": "code",
            "execution_count": null,
            "metadata": {},
            "outputs": [],
            "source": ""
        }
    ],
    "metadata": {
        "kernelspec": {
            "display_name": "Python 3.8",
            "language": "python",
            "name": "python3"
        },
        "language_info": {
            "codemirror_mode": {
                "name": "ipython",
                "version": 3
            },
            "file_extension": ".py",
            "mimetype": "text/x-python",
            "name": "python",
            "nbconvert_exporter": "python",
            "pygments_lexer": "ipython3",
            "version": "3.8.12"
        }
    },
    "nbformat": 4,
    "nbformat_minor": 1
}